{
  "nbformat": 4,
  "nbformat_minor": 0,
  "metadata": {
    "colab": {
      "provenance": []
    },
    "kernelspec": {
      "name": "python3",
      "display_name": "Python 3"
    },
    "language_info": {
      "name": "python"
    }
  },
  "cells": [
    {
      "cell_type": "code",
      "execution_count": null,
      "metadata": {
        "colab": {
          "base_uri": "https://localhost:8080/"
        },
        "id": "CnrJJfiQMvr3",
        "outputId": "979bc1bf-940f-48f3-9966-c303b02912da"
      },
      "outputs": [
        {
          "output_type": "stream",
          "name": "stdout",
          "text": [
            "N1:5\n",
            "N2:8\n",
            "Media: 6.5\n"
          ]
        }
      ],
      "source": [
        "#Função para calcular media\n",
        "def media(n1,n2):\n",
        "  return print(\"Media:\", (n1+n2)/2);\n",
        "\n",
        "#Inputs(Entrada de dados)\n",
        "nota1 = float(input(\"N1:\"));\n",
        "nota2 = float(input(\"N2:\"));\n",
        "\n",
        "#Chamada da função passando os inputs\n",
        "media(nota1,nota2);\n"
      ]
    },
    {
      "cell_type": "code",
      "source": [
        "#Função para calcular desconto\n",
        "def desconto(preco,desconto):\n",
        "  desc = float(preco*(desconto/100));\n",
        "  return print(\"Desconto:\", desc, \"\\nPreço Final:\", preco-desc);\n",
        "\n",
        "#Inputs(Entrada de dados)\n",
        "preco = float(input(\"Preco: \"));\n",
        "desc = float(input(\"Desconto: \"));\n",
        "\n",
        "#Chamada da função passando os inputs\n",
        "desconto(preco,desc);"
      ],
      "metadata": {
        "colab": {
          "base_uri": "https://localhost:8080/"
        },
        "id": "TaY4aYM5R00S",
        "outputId": "56143ba6-70eb-454c-f188-a94248cf95ac"
      },
      "execution_count": null,
      "outputs": [
        {
          "output_type": "stream",
          "name": "stdout",
          "text": [
            "Preco:50\n",
            "Desconto:50\n",
            "Desconto: 25.0 \n",
            "Preço Final: 25.0\n"
          ]
        }
      ]
    },
    {
      "cell_type": "code",
      "source": [
        "#Função para calcular tempo perdido\n",
        "def tempoPerdido(cig,anos):\n",
        "  red = (anos * 365 * cig * 10)/(24*60);\n",
        "  return print(\"Perderá:\", round(red,1), \"dias de vida\");\n",
        "\n",
        "#Inputs(Entrada de dados)\n",
        "cig = float(input(\"Quantos cigarros por dia: \"));\n",
        "anos = float(input(\"Fumou por quantos anos: \"));\n",
        "#Chamada da função passando os inputs\n",
        "tempoPerdido(cig,anos);"
      ],
      "metadata": {
        "id": "1vZwN87FU7UF"
      },
      "execution_count": null,
      "outputs": []
    },
    {
      "cell_type": "code",
      "source": [
        "\n",
        "\n",
        "v1 = int(input(\"Digite o codigo: \"));\n",
        "v2 = int(input(\"Digite a quantidade: \"));\n",
        "\n",
        "match v1:\n",
        "  case 1:\n",
        "    v1 = 0.5;\n",
        "    total = v1 * v2;\n",
        "    print(total);\n",
        "  case 2:\n",
        "    v1 = 1.0;\n",
        "    total = v1 * v2;\n",
        "    print(total);\n",
        "  case 3:\n",
        "    v1 = 4.0;\n",
        "    total = v1 * v2;\n",
        "    print(total);\n",
        "  case 5:\n",
        "    v1 = 7.0;\n",
        "    total = v1 * v2;\n",
        "    print(total);\n",
        "  case 9:\n",
        "    v1 = 8.0;\n",
        "    total = v1 * v2;\n",
        "    print(total);\n",
        "  case _:\n",
        "    print(\"Numero inválido\");"
      ],
      "metadata": {
        "id": "nHAYgjQsdkYd"
      },
      "execution_count": null,
      "outputs": []
    },
    {
      "cell_type": "code",
      "source": [
        "package aaaaaa;\n",
        "\n",
        "import java.util.Scanner;\n",
        "\n",
        "public class main {\n",
        "  public static void main(String[] args) {\n",
        "    double total = 0;\n",
        "    Scanner tec = new Scanner(System.in);\n",
        "    System.out.println(\"Digite o codigo\");\n",
        "    int v1 = tec.nextInt();\n",
        "    System.out.println(\"Digite a quantidade\");\n",
        "    double v2 = tec.nextDouble();\n",
        "\n",
        "    switch (v1) {\n",
        "      case 1:\n",
        "        double v3 = (double) 0.5;\n",
        "        total = v3 * v2;\n",
        "        System.out.println(total);\n",
        "        break;\n",
        "      case 2:\n",
        "    \tdouble v4 = (double) 1.0;\n",
        "        total = v4 * v2;\n",
        "        System.out.println(total);\n",
        "        break;\n",
        "      case 3:\n",
        "    \tdouble v5 = (double) 4.0;\n",
        "        total = v5 * v2;\n",
        "        System.out.println(total);\n",
        "        break;\n",
        "      case 5:\n",
        "    \tdouble v6 = (double) 7.0;\n",
        "        total = v6 * v2;\n",
        "        System.out.println(total);\n",
        "        break;\n",
        "      case 9:\n",
        "    \tdouble v7 = (double) 8.0;\n",
        "        total = v7 * v2;\n",
        "        System.out.println(total);\n",
        "        break;\n",
        "      default:\n",
        "        System.out.println(\"Numero inválido\");\n",
        "    }\n",
        "  }\n",
        "}"
      ],
      "metadata": {
        "id": "N43vkOt-kmwv"
      },
      "execution_count": null,
      "outputs": []
    },
    {
      "cell_type": "code",
      "source": [
        "package main\n",
        "\n",
        "import (\n",
        "\t\"fmt\"\n",
        ")\n",
        "\n",
        "func main() {\n",
        "\tvar total float64\n",
        "\tvar v1 int\n",
        "\tvar v2 float64\n",
        "\n",
        "\tfmt.Println(\"Digite o codigo\")\n",
        "\tfmt.Scan(&v1)\n",
        "\n",
        "\tfmt.Println(\"Digite a quantidade\")\n",
        "\tfmt.Scan(&v2)\n",
        "\n",
        "\tswitch v1 {\n",
        "\tcase 1:\n",
        "\t\tv3 := 0.5\n",
        "\t\ttotal = v3 * v2\n",
        "\t\tfmt.Println(total)\n",
        "\tcase 2:\n",
        "\t\tv4 := 1.0\n",
        "\t\ttotal = v4 * v2\n",
        "\t\tfmt.Println(total)\n",
        "\tcase 3:\n",
        "\t\tv5 := 4.0\n",
        "\t\ttotal = v5 * v2\n",
        "\t\tfmt.Println(total)\n",
        "\tcase 5:\n",
        "\t\tv6 := 7.0\n",
        "\t\ttotal = v6 * v2\n",
        "\t\tfmt.Println(total)\n",
        "\tcase 9:\n",
        "\t\tv7 := 8.0\n",
        "\t\ttotal = v7 * v2\n",
        "\t\tfmt.Println(total)\n",
        "\tdefault:\n",
        "\t\tfmt.Println(\"Número inválido\")\n",
        "\t}\n",
        "}\n"
      ],
      "metadata": {
        "id": "QAuokRGZpE3f"
      },
      "execution_count": null,
      "outputs": []
    },
    {
      "cell_type": "code",
      "source": [
        "/* Lógico_1: */\n",
        "\n",
        "CREATE TABLE Tarefa (\n",
        "    IdTarefa Integer PRIMARY KEY,\n",
        "    nome_tarefa varchar(100),\n",
        "    percentual Float,\n",
        "    Obs Text\n",
        ");\n",
        "\n",
        "CREATE TABLE Item_Tarefa (\n",
        "    IdItem Integer PRIMARY KEY,\n",
        "    Nome_Item varchar(200),\n",
        "    porcentual Float,\n",
        "    fk_Tarefa_IdTarefa Integer\n",
        ");\n",
        "\n",
        "ALTER TABLE Item_Tarefa ADD CONSTRAINT FK_Item_Tarefa_2\n",
        "    FOREIGN KEY (fk_Tarefa_IdTarefa)\n",
        "    REFERENCES Tarefa (IdTarefa)\n",
        "    ON DELETE RESTRICT;\n",
        "\n",
        "\n",
        "INSERT INTO public.tarefa(\n",
        "\tidtarefa, nome_tarefa, percentual, obs)\n",
        "\tVALUES (1, 'aniversario de fabio', 20, 'a festa sera em cabrobro');\n",
        "\n",
        "\tINSERT INTO public.tarefa(\n",
        "\tidtarefa, nome_tarefa, percentual, obs)\n",
        "\tVALUES (2, 'aniversario de ricardo', 30, 'a festa sera na unipe');\n",
        "\n",
        "\tINSERT INTO public.tarefa(\n",
        "\tidtarefa, nome_tarefa, percentual, obs)\n",
        "\tVALUES (3, 'aniversario de nao-fabio', 80, 'a festa sera em nao-cabrobro');\n",
        "\n",
        "\tINSERT INTO public.tarefa(\n",
        "\tidtarefa, nome_tarefa, percentual, obs)\n",
        "\tVALUES (4, 'aniversario de dani', 50, 'a festa nao sera');"
      ],
      "metadata": {
        "id": "XBqiTl4CmqjY"
      },
      "execution_count": null,
      "outputs": []
    },
    {
      "cell_type": "code",
      "source": [
        "#le um vetor de 8 posiçoes e, em seguida, le 2 valores X e Y quaisquer correspondentes\n",
        "#a duas posições no vetor. O programa então imprime a soma dos valores encontrados\n",
        "#nas respectivas posiçoes X e Y\n",
        "\n",
        "def main():\n",
        "  vet = [0] * 8;\n",
        "\n",
        "  for i in range(8):\n",
        "    vet[i] = int(input(\"Digite o valor na posição {}: \".format(i)));\n",
        "\n",
        "  x = int(input(\"Digite o valor de X: \"));\n",
        "  y = int(input(\"Digite o valor de Y: \"));\n",
        "  if (x > len(vet) or y > len(vet)):\n",
        "    print(\"Valores maiores que o tamanho do vetor\")\n",
        "  else:\n",
        "      soma = vet[x] + vet[y];\n",
        "      print(\"A soma dos valores na posição x e y é {}: \" .format(soma));\n",
        "if __name__ == \"__main__\":\n",
        "  main()"
      ],
      "metadata": {
        "id": "J39zZESTi1MB"
      },
      "execution_count": null,
      "outputs": []
    },
    {
      "cell_type": "code",
      "source": [
        "#Faça um programa em Python que receba do usuario um vetor de 10 posições\n",
        "#Em seguida devera ser impresso o maior valor e o menor\n",
        "#nas respectivas posiçoes X e Y\n",
        "\n",
        "def main():\n",
        "  vet = [0] * 10;\n",
        "\n",
        "  for i in range(10):\n",
        "    vet[i] = int(input(\"Digite o valor na posição {}: \".format(i)));\n",
        "  maior = vet[0];\n",
        "  menor = vet[0];\n",
        "  maiorq5 = 0;\n",
        "  soma = 0;\n",
        "  media = 0;\n",
        "\n",
        "  for i in range(len(vet)):\n",
        "    soma += vet[i]\n",
        "    if vet[i] > maior:\n",
        "      maior = vet[i]\n",
        "    elif vet[i] < menor:\n",
        "      menor = vet[i]\n",
        "\n",
        "    if vet[i] >= 5:\n",
        "      maiorq5 += 1\n",
        "\n",
        "  media = soma/ len(vet)\n",
        "  print(\"\\nMaior: \",maior)\n",
        "  print(\"Menor: \",menor)\n",
        "  print(\"Soma: \",soma)\n",
        "  print(\"Media: \",media)\n",
        "  print(\"Maiores ou igual a 5: \",maiorq5)\n",
        "if __name__ == \"__main__\":\n",
        "  main()"
      ],
      "metadata": {
        "colab": {
          "base_uri": "https://localhost:8080/"
        },
        "id": "_buv9-8qoPfY",
        "outputId": "955e51a3-690b-41c8-b872-4ff45b4f0506"
      },
      "execution_count": null,
      "outputs": [
        {
          "output_type": "stream",
          "name": "stdout",
          "text": [
            "Digite o valor na posição 0: 55\n",
            "Digite o valor na posição 1: 40\n",
            "Digite o valor na posição 2: 20\n",
            "Digite o valor na posição 3: 60\n",
            "Digite o valor na posição 4: 2\n",
            "Digite o valor na posição 5: 3\n",
            "Digite o valor na posição 6: 15\n",
            "Digite o valor na posição 7: 20\n",
            "Digite o valor na posição 8: 39\n",
            "Digite o valor na posição 9: 23\n",
            "\n",
            "Maior:  60\n",
            "Menor:  2\n",
            "Soma:  277\n",
            "Media:  27.7\n",
            "Maiores ou igual a 5:  5\n"
          ]
        }
      ]
    },
    {
      "cell_type": "code",
      "source": [
        "# Crie um dicionário que é uma agenda e coloque nele os seguintes dados: chave (cpf),\n",
        "# nome, idade, telefone. O programa deve ler um número indeterminado de dados, criar a\n",
        "# agenda e imprimir todos os itens do dicionário no formato chave: nome, idade, fone.\n",
        "\n",
        "def main():\n",
        "    # Cria um dicionário vazio\n",
        "    agenda = {}\n",
        "\n",
        "    # Lê os dados da agenda\n",
        "    while True:\n",
        "        cpf = input(\"Digite o CPF: \")\n",
        "        nome = input(\"Digite o nome: \")\n",
        "        idade = input(\"Digite a idade: \")\n",
        "        telefone = input(\"Digite o telefone: \")\n",
        "\n",
        "        # Adiciona os dados ao dicionário\n",
        "        agenda[cpf] = {\n",
        "            \"nome\": nome,\n",
        "            \"idade\": idade,\n",
        "            \"telefone\": telefone,\n",
        "        }\n",
        "\n",
        "        # Pergunta se o usuário deseja continuar\n",
        "        continuar = input(\"Deseja continuar? (s/n): \")\n",
        "        if continuar != \"s\":\n",
        "            break\n",
        "\n",
        "    # Imprime os itens do dicionário\n",
        "    for cpf, contato in agenda.items():\n",
        "        print(cpf, contato[\"nome\"], contato[\"idade\"], contato[\"telefone\"])\n",
        "\n",
        "\n",
        "if __name__ == \"__main__\":\n",
        "    main()"
      ],
      "metadata": {
        "colab": {
          "base_uri": "https://localhost:8080/"
        },
        "id": "ILZcNc_zWZRm",
        "outputId": "f86e5b5a-4ae9-4bd3-a50e-0a93d450ad8f"
      },
      "execution_count": null,
      "outputs": [
        {
          "output_type": "stream",
          "name": "stdout",
          "text": [
            "Digite o CPF: 81389302253\n",
            "Digite o nome: gabriel\n",
            "Digite a idade: 24\n",
            "Digite o telefone: 839826464\n",
            "Deseja continuar? (s/n): n\n",
            "81389302253 gabriel 24 839826464\n"
          ]
        }
      ]
    }
  ]
}